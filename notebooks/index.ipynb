{
 "cells": [
  {
   "cell_type": "markdown",
   "metadata": {},
   "source": [
    "# Introduction to Jupyter (aka IPython Notebook)  \n",
    "### ACGT Retreat 2015   "
   ]
  },
  {
   "cell_type": "markdown",
   "metadata": {},
   "source": [
    "Outline:\n",
    "\n",
    "1. [Installation](installation.ipynb)\n",
    "2. Overview of the [Jupyter enviroment](../notebooks/enviroment.ipynb)\n",
    "3. [IPython vs Python](../notebooks/use_of_ipython.ipynb)\n",
    "4. [Magic functions](../notebooks/magics.ipynb)\n",
    "5. [Display system](../notebooks/display.ipynb)\n",
    "6. [IPython parallel computing clusters](../notebooks/parallel.ipynb)\n",
    "7. Example of [reproducible research](../notebooks/example/analysis.ipynb)\n",
    "8. [Export Jupyter](../notebooks/export.ipynb) to other formats\n",
    "9. [References](../notebooks/references.ipynb)"
   ]
  }
 ],
 "metadata": {
  "kernelspec": {
   "display_name": "Python 3",
   "language": "python",
   "name": "python3"
  },
  "language_info": {
   "codemirror_mode": {
    "name": "ipython",
    "version": 3
   },
   "file_extension": ".py",
   "mimetype": "text/x-python",
   "name": "python",
   "nbconvert_exporter": "python",
   "pygments_lexer": "ipython3",
   "version": "3.4.3"
  }
 },
 "nbformat": 4,
 "nbformat_minor": 0
}
