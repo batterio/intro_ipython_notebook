{
 "metadata": {
  "name": "",
  "signature": "sha256:4a6be9e5bb22ed31c0666878b63319c0005c38fd12e4ee8860e589f4895920f8"
 },
 "nbformat": 3,
 "nbformat_minor": 0,
 "worksheets": [
  {
   "cells": [
    {
     "cell_type": "markdown",
     "metadata": {},
     "source": [
      "# Introduction to IPython Notebook  \n",
      "### Python Meetup Group Barcelona  "
     ]
    },
    {
     "cell_type": "markdown",
     "metadata": {},
     "source": [
      "Outline:\n",
      "\n",
      "1. [Installation](installation.ipynb)\n",
      "2. Overview of the [Notebook enviroment](../notebooks/enviroment.ipynb)\n",
      "3. [IPython vs Python](../notebooks/use_of_ipython.ipynb)\n",
      "4. [Magic functions](../notebooks/magics.ipynb)\n",
      "5. [Display system](../notebooks/display.ipynb)\n",
      "6. Example of [reproducible research](../notebooks/example/analysis.ipynb)\n",
      "7. [Export the Notebook](../notebooks/export.ipynb) to other formats\n",
      "8. [References](../notebooks/references.ipynb)"
     ]
    }
   ],
   "metadata": {}
  }
 ]
}