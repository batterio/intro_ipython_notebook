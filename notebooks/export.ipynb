{
 "metadata": {
  "name": "",
  "signature": "sha256:53c5eeb24e4eedbe8fa9add80f26352fe47fd069ad49e08dc87f75fe3629cf92"
 },
 "nbformat": 3,
 "nbformat_minor": 0,
 "worksheets": [
  {
   "cells": [
    {
     "cell_type": "heading",
     "level": 1,
     "metadata": {},
     "source": [
      "Export the IPython Notebook to other formats"
     ]
    },
    {
     "cell_type": "markdown",
     "metadata": {},
     "source": [
      "The IPython notebooks can be converted in the following formats:\n",
      "* python\n",
      "* html\n",
      "* latex (--post=pdf)\n",
      "* markdown\n",
      "* rst\n",
      "* slides \n",
      "\n",
      "The command-line syntax to run the `nbconvert` script is:\n",
      "\n",
      "```bash\n",
      "$ ipython nbconvert --to FORMAT notebook.ipynb\n",
      "```\n",
      "\n",
      "The default output format is html, for which the `--to` argument may be omitted"
     ]
    },
    {
     "cell_type": "heading",
     "level": 2,
     "metadata": {},
     "source": [
      "Exporting to HTML"
     ]
    },
    {
     "cell_type": "markdown",
     "metadata": {},
     "source": [
      "As an example, lets convert the `analysis.ipynb` notebook to HTML"
     ]
    },
    {
     "cell_type": "code",
     "collapsed": false,
     "input": [
      "%%bash\n",
      "ipython nbconvert --to html --template full 'example/analysis.ipynb'"
     ],
     "language": "python",
     "metadata": {},
     "outputs": [
      {
       "output_type": "stream",
       "stream": "stderr",
       "text": [
        "[NbConvertApp] Using existing profile dir: u'/Users/loris/.ipython/profile_default'\n",
        "[NbConvertApp] Converting notebook example/analysis.ipynb to html\n",
        "[NbConvertApp] Support files will be in analysis_files/\n",
        "[NbConvertApp] Loaded template full.tpl\n",
        "/Users/loris/.virtualenvs/python_meetup/lib/python2.7/site-packages/IPython/nbconvert/filters/markdown.py:78: UserWarning: Node.js 0.9.12 or later wasn't found.\n",
        "Nbconvert will try to use Pandoc instead.\n",
        "  \"Nbconvert will try to use Pandoc instead.\")\n",
        "[NbConvertApp] Writing 573071 bytes to analysis.html\n"
       ]
      }
     ],
     "prompt_number": 1
    },
    {
     "cell_type": "markdown",
     "metadata": {},
     "source": [
      "This is the result:"
     ]
    },
    {
     "cell_type": "code",
     "collapsed": false,
     "input": [
      "from IPython.display import IFrame\n",
      "IFrame('analysis.html', 1000, 400)"
     ],
     "language": "python",
     "metadata": {},
     "outputs": [
      {
       "html": [
        "\n",
        "        <iframe\n",
        "            width=\"1000\"\n",
        "            height=400\"\n",
        "            src=\"analysis.html\"\n",
        "            frameborder=\"0\"\n",
        "            allowfullscreen\n",
        "        ></iframe>\n",
        "        "
       ],
       "metadata": {},
       "output_type": "pyout",
       "prompt_number": 2,
       "text": [
        "<IPython.lib.display.IFrame at 0x101f55510>"
       ]
      }
     ],
     "prompt_number": 2
    },
    {
     "cell_type": "heading",
     "level": 2,
     "metadata": {},
     "source": [
      "Creating SLIDES"
     ]
    },
    {
     "cell_type": "markdown",
     "metadata": {},
     "source": [
      "This generates a Reveal.js HTML slideshow. It must be served by an HTTP server. \n",
      "The easiest way to do this is adding `--post serve` on the command-line."
     ]
    },
    {
     "cell_type": "markdown",
     "metadata": {},
     "source": [
      "To create the slides we first have to select **slideshow** from the **Cell Toolbar** menu and then configure the **Slide Type** of each cell as:\n",
      "\n",
      "* Slide\n",
      "* Sub-Slide\n",
      "* Fragment\n",
      "* Skip\n",
      "* Notes\n",
      "\n",
      "I created a copy of the `example/analysis.ipynb` called `analysis_slideshow.ipynb` where I configured the behaviour of every cell."
     ]
    },
    {
     "cell_type": "code",
     "collapsed": false,
     "input": [
      "%%bash\n",
      "ipython nbconvert --to slides --template output_toggle --post serve 'analysis_slideshow.ipynb'"
     ],
     "language": "python",
     "metadata": {},
     "outputs": []
    }
   ],
   "metadata": {}
  }
 ]
}