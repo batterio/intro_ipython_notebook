{
 "cells": [
  {
   "cell_type": "markdown",
   "metadata": {},
   "source": [
    "# Export Jupyter to other formats"
   ]
  },
  {
   "cell_type": "markdown",
   "metadata": {},
   "source": [
    "The IPython notebooks can be converted in the following formats:\n",
    "* html\n",
    "* latex \n",
    "* pdf\n",
    "* markdown\n",
    "* rst  \n",
    "* script\n",
    "* slides  \n",
    "* notebook\n",
    "\n",
    "The command-line syntax to run the `nbconvert` script is:\n",
    "\n",
    "```bash\n",
    "$ ipython nbconvert --to <FORMAT> notebook.ipynb\n",
    "```\n",
    "\n",
    "The default output format is html, for which the `--to` argument may be omitted"
   ]
  },
  {
   "cell_type": "markdown",
   "metadata": {},
   "source": [
    "## Exporting to HTML"
   ]
  },
  {
   "cell_type": "markdown",
   "metadata": {},
   "source": [
    "As an example, lets convert the `analysis.ipynb` notebook to HTML"
   ]
  },
  {
   "cell_type": "code",
   "execution_count": 1,
   "metadata": {
    "collapsed": false
   },
   "outputs": [
    {
     "name": "stderr",
     "output_type": "stream",
     "text": [
      "[NbConvertApp] Converting notebook example/analysis.ipynb to html\n",
      "[NbConvertApp] Writing 368559 bytes to analysis.html\n"
     ]
    }
   ],
   "source": [
    "%%bash\n",
    "\n",
    "ipython nbconvert --to html --template full 'example/analysis.ipynb'"
   ]
  },
  {
   "cell_type": "markdown",
   "metadata": {},
   "source": [
    "This is the result:"
   ]
  },
  {
   "cell_type": "code",
   "execution_count": 2,
   "metadata": {
    "collapsed": false
   },
   "outputs": [
    {
     "data": {
      "text/html": [
       "\n",
       "        <iframe\n",
       "            width=\"1000\"\n",
       "            height=\"400\"\n",
       "            src=\"analysis.html\"\n",
       "            frameborder=\"0\"\n",
       "            allowfullscreen\n",
       "        ></iframe>\n",
       "        "
      ],
      "text/plain": [
       "<IPython.lib.display.IFrame at 0x10baa46a0>"
      ]
     },
     "execution_count": 2,
     "metadata": {},
     "output_type": "execute_result"
    }
   ],
   "source": [
    "from IPython.display import IFrame\n",
    "IFrame('analysis.html', 1000, 400)"
   ]
  },
  {
   "cell_type": "markdown",
   "metadata": {},
   "source": [
    "## Creating SLIDES"
   ]
  },
  {
   "cell_type": "markdown",
   "metadata": {},
   "source": [
    "This generates a Reveal.js HTML slideshow. It must be served by an HTTP server. \n",
    "The easiest way to do this is adding `--post serve` on the command-line."
   ]
  },
  {
   "cell_type": "markdown",
   "metadata": {},
   "source": [
    "To create the slides we first have to select **slideshow** from the **Cell Toolbar** menu and then configure the **Slide Type** of each cell as:\n",
    "\n",
    "* Slide\n",
    "* Sub-Slide\n",
    "* Fragment\n",
    "* Skip\n",
    "* Notes\n",
    "\n",
    "I created a copy of the `example/analysis.ipynb` called `analysis_slideshow.ipynb` where I configured the behaviour of every cell."
   ]
  },
  {
   "cell_type": "code",
   "execution_count": 3,
   "metadata": {
    "collapsed": false
   },
   "outputs": [
    {
     "name": "stdout",
     "output_type": "stream",
     "text": [
      "Process is terminated.\n"
     ]
    }
   ],
   "source": [
    "%%bash\n",
    "\n",
    "ipython nbconvert --to slides --template output_toggle --post serve 'example/analysis_slideshow.ipynb'"
   ]
  }
 ],
 "metadata": {
  "kernelspec": {
   "display_name": "Python 3",
   "language": "python",
   "name": "python3"
  },
  "language_info": {
   "codemirror_mode": {
    "name": "ipython",
    "version": 3
   },
   "file_extension": ".py",
   "mimetype": "text/x-python",
   "name": "python",
   "nbconvert_exporter": "python",
   "pygments_lexer": "ipython3",
   "version": "3.4.3"
  }
 },
 "nbformat": 4,
 "nbformat_minor": 0
}
