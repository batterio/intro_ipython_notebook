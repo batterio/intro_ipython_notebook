{
 "cells": [
  {
   "cell_type": "markdown",
   "metadata": {},
   "source": [
    "# Jupyter Enviroment"
   ]
  },
  {
   "cell_type": "markdown",
   "metadata": {},
   "source": [
    "# Basics"
   ]
  },
  {
   "cell_type": "markdown",
   "metadata": {},
   "source": [
    "* Ipython vs Python\n",
    "* How to start a notebook: _ipython notebook_\n",
    "* Main page:  \n",
    "    * Files  \n",
    "    * Running  \n",
    "    * Clusters  \n",
    "* Functions of the index page: create, run, shutdown and delete a notebook\n",
    "* Automatic saves and checkpoints (Version Control)\n",
    "* Ipython is organized in cells\n",
    "* Types: Code, Markdown, Raw, Heading (deprecated)\n",
    "* Keyboard shortcuts ~ vi: **EDIT mode** <Esc> and **COMMAND mode** <enter>"
   ]
  },
  {
   "cell_type": "markdown",
   "metadata": {},
   "source": [
    "<img src=\"figs/help.png\">"
   ]
  },
  {
   "cell_type": "markdown",
   "metadata": {},
   "source": [
    "# Notebook files"
   ]
  },
  {
   "cell_type": "markdown",
   "metadata": {},
   "source": [
    "Notebook files:\n",
    "\n",
    "* Are just that - files (`.ipynb`) on your file system\n",
    "* Contain JSON data"
   ]
  },
  {
   "cell_type": "code",
   "execution_count": 1,
   "metadata": {
    "collapsed": false
   },
   "outputs": [],
   "source": [
    "import IPython.nbformat as ipnbf\n",
    "with open('enviroment.ipynb') as f:\n",
    "    nb = ipnbf.read(f, as_version=4)"
   ]
  },
  {
   "cell_type": "code",
   "execution_count": 2,
   "metadata": {
    "collapsed": false
   },
   "outputs": [
    {
     "data": {
      "text/plain": [
       "[{'cell_type': 'markdown', 'metadata': {}, 'source': '# Jupyter Enviroment'},\n",
       " {'cell_type': 'markdown', 'metadata': {}, 'source': '# Basics'},\n",
       " {'cell_type': 'markdown',\n",
       "  'metadata': {},\n",
       "  'source': '* Ipython vs Python\\n* How to start a notebook: _ipython notebook_\\n* Main page:  \\n    * Files  \\n    * Running  \\n    * Clusters  \\n* Functions of the index page: create, run, shutdown and delete a notebook\\n* Automatic saves and checkpoints (Version Control)\\n* Ipython is organized in cells\\n* Types: Code, Markdown, Raw, Heading (deprecated)\\n* Keyboard shortcuts ~ vi: **EDIT mode** <Esc> and **COMMAND mode** <enter>'}]"
      ]
     },
     "execution_count": 2,
     "metadata": {},
     "output_type": "execute_result"
    }
   ],
   "source": [
    "nb.cells[0:3]"
   ]
  }
 ],
 "metadata": {
  "kernelspec": {
   "display_name": "Python 3",
   "language": "python",
   "name": "python3"
  },
  "language_info": {
   "codemirror_mode": {
    "name": "ipython",
    "version": 3
   },
   "file_extension": ".py",
   "mimetype": "text/x-python",
   "name": "python",
   "nbconvert_exporter": "python",
   "pygments_lexer": "ipython3",
   "version": "3.4.3"
  }
 },
 "nbformat": 4,
 "nbformat_minor": 0
}
