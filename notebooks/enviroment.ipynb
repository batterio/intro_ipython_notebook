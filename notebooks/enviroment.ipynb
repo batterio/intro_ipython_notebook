{
 "metadata": {
  "name": "",
  "signature": "sha256:b8032685072293ff1e8a9d7497cc2f8604a305a48d42e56ca779251f35fa9adf"
 },
 "nbformat": 3,
 "nbformat_minor": 0,
 "worksheets": [
  {
   "cells": [
    {
     "cell_type": "heading",
     "level": 1,
     "metadata": {},
     "source": [
      "Notebook Enviroment"
     ]
    },
    {
     "cell_type": "heading",
     "level": 2,
     "metadata": {},
     "source": [
      "Basics"
     ]
    },
    {
     "cell_type": "markdown",
     "metadata": {},
     "source": [
      "## Basics"
     ]
    },
    {
     "cell_type": "markdown",
     "metadata": {},
     "source": [
      "* How to start a notebook: _ipython notebook_\n",
      "* Main page: navigate through the file system\n",
      "    * only dir and ipnb files\n",
      "    * index is always at the top\n",
      "* Functions of the index page: create, run, shutdown and delete a notebook\n",
      "* Use **screen** or **tmux**\n",
      "* Automatic saves and checkpoints (Version Control)\n",
      "* Ipython is organized in cells\n",
      "* Button are useful for tablets and phones\n",
      "* There is **no UNDO**!!\n",
      "* Types: Code, Markdown, Raw, Heading (for structure: TOC & anchors)\n",
      "* Metadata: slides or custom by using json\n",
      "* Keyboard shortcuts ~ vi: **EDIT mode** <Esc> and **COMMAND mode** <enter>"
     ]
    },
    {
     "cell_type": "markdown",
     "metadata": {},
     "source": [
      "<img src=\"figs/help.png\">"
     ]
    },
    {
     "cell_type": "heading",
     "level": 2,
     "metadata": {},
     "source": [
      "Notebook files"
     ]
    },
    {
     "cell_type": "markdown",
     "metadata": {},
     "source": [
      "Notebook files:\n",
      "\n",
      "* Are just that - files (`.ipynb`) on your file system\n",
      "* Contain JSON data"
     ]
    },
    {
     "cell_type": "code",
     "collapsed": false,
     "input": [
      "from IPython.nbformat import current\n",
      "with open('enviroment.ipynb') as f:\n",
      "    nb = current.read(f, 'json')"
     ],
     "language": "python",
     "metadata": {},
     "outputs": [],
     "prompt_number": 1
    },
    {
     "cell_type": "code",
     "collapsed": false,
     "input": [
      "nb.worksheets[0].cells[0:3]"
     ],
     "language": "python",
     "metadata": {},
     "outputs": [
      {
       "metadata": {},
       "output_type": "pyout",
       "prompt_number": 2,
       "text": [
        "[{u'cell_type': u'heading',\n",
        "  u'level': 1,\n",
        "  u'metadata': {},\n",
        "  u'source': u'Notebook Enviroment'},\n",
        " {u'cell_type': u'heading',\n",
        "  u'level': 2,\n",
        "  u'metadata': {},\n",
        "  u'source': u'Basics'},\n",
        " {u'cell_type': u'markdown',\n",
        "  u'metadata': {},\n",
        "  u'source': u'* How to start a notebook: _ipython notebook_\\n* Main page: navigate through the file system\\n    * only dir and ipnb files\\n    * index is always at the top\\n* Functions of the index page: create, run, shutdown and delete a notebook\\n* Use **screen** or **tmux**\\n* Automatic saves and checkpoints (Version Control)\\n* Ipython is organized in cells\\n* Button are useful for tablets and phones\\n* There is **no UNDO**!!\\n* Types: Code, Markdown, Raw, Heading (for structure: TOC & anchors)\\n* Metadata: slides or custom by using json\\n* Keyboard shortcuts ~ vi: **EDIT mode** <Esc> and **COMMAND mode** <enter>'}]"
       ]
      }
     ],
     "prompt_number": 2
    }
   ],
   "metadata": {}
  }
 ]
}