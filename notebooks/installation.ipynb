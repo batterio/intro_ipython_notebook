{
 "cells": [
  {
   "cell_type": "markdown",
   "metadata": {},
   "source": [
    "## Installing an all-in-one distribution (Linux, OSX, Windows) "
   ]
  },
  {
   "cell_type": "markdown",
   "metadata": {},
   "source": [
    "* The free edition of **Enthought** Canopy:  \n",
    "    * http://www.enthought.com/ \n",
    "    * Update to the current version with:  \n",
    "        _enpkg ipython_  \n",
    "  \n",
    "  \n",
    "* **Anaconda** by Continuum Analytics:  \n",
    "    * http://www.continuum.io/   \n",
    "    * Update to the current version with:  \n",
    "        _conda update conda_  \n",
    "        _conda update ipython_ \n",
    "  "
   ]
  },
  {
   "cell_type": "markdown",
   "metadata": {},
   "source": [
    "## Getting binary installers "
   ]
  },
  {
   "cell_type": "markdown",
   "metadata": {},
   "source": [
    "* **Linux**:  \n",
    "    * Ubuntu\n",
    "        * _sudo apt-get install ipython-notebook_  \n",
    "        * _sudo apt-get install python-matplotlib python-scipy python-pandas python-sympy python-nose_  \n",
    "    * Fedora (18+)  \n",
    "        * _sudo yum install python-ipython-notebook_  \n",
    "        * _sudo yum install python-matplotlib scipy python-pandas sympy python-nose_  \n",
    "  \n",
    "\n",
    "* **OSX**:  \n",
    "    * MacPorts project (http://www.macports.org)  \n",
    "    * Homebrew (http://mxcl.github.com/homebrew/)  \n",
    "  \n",
    "\n",
    "* **Windows**: \n",
    "    * personal webpage of Christoph Gohlke (http://www.lfd.uci.edu/~gohlke/pythonlibs/)\n"
   ]
  },
  {
   "cell_type": "markdown",
   "metadata": {},
   "source": [
    "## Using the Python packaging system"
   ]
  },
  {
   "cell_type": "markdown",
   "metadata": {},
   "source": [
    "* `easy_install ipython[all]`  \n",
    "* `pip install -U ipython[all]`  "
   ]
  },
  {
   "cell_type": "markdown",
   "metadata": {},
   "source": [
    "## Installing the development versions  "
   ]
  },
  {
   "cell_type": "markdown",
   "metadata": {},
   "source": [
    "    git clone https://github.com/ipython/ipython.git  \n",
    "    cd ipython  \n",
    "    python setup.py install  "
   ]
  }
 ],
 "metadata": {
  "kernelspec": {
   "display_name": "Python 3",
   "language": "python",
   "name": "python3"
  },
  "language_info": {
   "codemirror_mode": {
    "name": "ipython",
    "version": 3
   },
   "file_extension": ".py",
   "mimetype": "text/x-python",
   "name": "python",
   "nbconvert_exporter": "python",
   "pygments_lexer": "ipython3",
   "version": "3.4.3"
  }
 },
 "nbformat": 4,
 "nbformat_minor": 0
}
