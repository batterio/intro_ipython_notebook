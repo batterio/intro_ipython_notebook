{
 "metadata": {
  "name": "",
  "signature": "sha256:35575a1d2b77b0d3a71b6429ccca423554a43f231f609865df57c1a71981b87a"
 },
 "nbformat": 3,
 "nbformat_minor": 0,
 "worksheets": [
  {
   "cells": [
    {
     "cell_type": "heading",
     "level": 2,
     "metadata": {},
     "source": [
      "Installing an all-in-one distribution (Linux, OSX, Windows) "
     ]
    },
    {
     "cell_type": "markdown",
     "metadata": {},
     "source": [
      "* The free edition of **Enthought** Canopy:  \n",
      "    * http://www.enthought.com/ \n",
      "    * Update to the current version with:  \n",
      "        _enpkg ipython_  \n",
      "  \n",
      "  \n",
      "* **Anaconda** by Continuum Analytics:  \n",
      "    * http://www.continuum.io/   \n",
      "    * Update to the current version with:  \n",
      "        _conda update conda_  \n",
      "        _conda update ipython_ \n",
      "  "
     ]
    },
    {
     "cell_type": "heading",
     "level": 2,
     "metadata": {},
     "source": [
      "Getting binary installers "
     ]
    },
    {
     "cell_type": "markdown",
     "metadata": {},
     "source": [
      "* **Linux**:  \n",
      "    * Ubuntu\n",
      "        * _sudo apt-get install ipython-notebook_  \n",
      "        * _sudo apt-get install python-matplotlib python-scipy python-pandas python-sympy python-nose_  \n",
      "    * Fedora (18+)  \n",
      "        * _sudo yum install python-ipython-notebook_  \n",
      "        * _sudo yum install python-matplotlib scipy python-pandas sympy python-nose_  \n",
      "  \n",
      "\n",
      "* **OSX**:  \n",
      "    * MacPorts project (http://www.macports.org)  \n",
      "    * Homebrew (http://mxcl.github.com/homebrew/)  \n",
      "  \n",
      "\n",
      "* **Windows**: \n",
      "    * personal webpage of Christoph Gohlke (http://www.lfd.uci.edu/~gohlke/pythonlibs/)\n"
     ]
    },
    {
     "cell_type": "heading",
     "level": 2,
     "metadata": {},
     "source": [
      "Using the Python packaging system"
     ]
    },
    {
     "cell_type": "markdown",
     "metadata": {},
     "source": [
      "* `easy_install ipython[all]`  \n",
      "* `pip install -U ipython[all]`  "
     ]
    },
    {
     "cell_type": "heading",
     "level": 2,
     "metadata": {},
     "source": [
      "Installing the development versions  "
     ]
    },
    {
     "cell_type": "markdown",
     "metadata": {},
     "source": [
      "    git clone https://github.com/ipython/ipython.git  \n",
      "    cd ipython  \n",
      "    python setup.py install  "
     ]
    }
   ],
   "metadata": {}
  }
 ]
}