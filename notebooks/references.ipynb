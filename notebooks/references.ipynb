{
 "cells": [
  {
   "cell_type": "markdown",
   "metadata": {},
   "source": [
    "# References"
   ]
  },
  {
   "cell_type": "markdown",
   "metadata": {},
   "source": [
    "**The code of this presentation**: \n",
    "\n",
    "* GitHub: https://github.com/batterio/intro_ipython_notebook"
   ]
  },
  {
   "cell_type": "markdown",
   "metadata": {},
   "source": [
    "**Links**:\n",
    "\n",
    "* [IPython Notebook webpage](http://ipython.org/notebook.html)\n",
    "* [IPython Notebook Viewer](http://nbviewer.ipython.org/)\n",
    "* [Interesting IPython Notebook](https://github.com/ipython/ipython/wiki/A-gallery-of-interesting-IPython-Notebooks)\n",
    "* Article on [Nature](http://www.nature.com/news/interactive-notebooks-sharing-the-code-1.16261) about the Ipython Notebooks"
   ]
  },
  {
   "cell_type": "markdown",
   "metadata": {},
   "source": [
    "**Videos:**\n",
    "* [IPython in-depth: high-productivity interactive and parallel python](http://www.pyvideo.org/video/2577/ipython-in-depth-high-productivity-interactive-a-1) by Fernando Perez at PyCon US 2014.  \n",
    "* [IPython & Jupyter in depth: high productivity interactive and parallel python](https://www.youtube.com/watch?v=05fA_DXgW-Y) by Thomas Kluyver and Kyle Kelley at PyCon 2015."
   ]
  },
  {
   "cell_type": "markdown",
   "metadata": {},
   "source": [
    "**Books:**  \n",
    "* [Learning IPython for Interactive Computing and Data Visualization](http://ipython-books.github.io/minibook/) by Cyrille Rossant.  \n",
    "This is a beginner-level introduction to IPython for data analysis and numerical computing, covering NumPy, pandas, SciPy, and matplotlib.\n",
    "<img src=\"figs/ipython_book_1.jpg\">  \n",
    "  \n",
    "  \n",
    "\n",
    "* [IPython Interactive Computing and Visualization Cookbook](http://ipython-books.github.io/cookbook/) by Cyrille Rossant.  \n",
    "This is an advanced-level guide to IPython for data science, and the sequel of the IPython minibook.\n",
    "<img src=\"figs/ipython_book_2.jpg\">"
   ]
  }
 ],
 "metadata": {
  "kernelspec": {
   "display_name": "Python 3",
   "language": "python",
   "name": "python3"
  },
  "language_info": {
   "codemirror_mode": {
    "name": "ipython",
    "version": 3
   },
   "file_extension": ".py",
   "mimetype": "text/x-python",
   "name": "python",
   "nbconvert_exporter": "python",
   "pygments_lexer": "ipython3",
   "version": "3.4.3"
  }
 },
 "nbformat": 4,
 "nbformat_minor": 0
}
