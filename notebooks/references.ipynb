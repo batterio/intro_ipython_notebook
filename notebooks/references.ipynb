{
 "metadata": {
  "name": "",
  "signature": "sha256:74c1db55b0a90706be0bf90d9214a23c651f50d0e4ca9f0a5d1b20e10d8a9be3"
 },
 "nbformat": 3,
 "nbformat_minor": 0,
 "worksheets": [
  {
   "cells": [
    {
     "cell_type": "heading",
     "level": 1,
     "metadata": {},
     "source": [
      "References"
     ]
    },
    {
     "cell_type": "markdown",
     "metadata": {},
     "source": [
      "**The code of the talk**: \n",
      "\n",
      "* GitHub: https://github.com/batterio/intro_ipython_notebook"
     ]
    },
    {
     "cell_type": "markdown",
     "metadata": {},
     "source": [
      "**Links**:\n",
      "\n",
      "* [IPython Notebook webpage](http://ipython.org/notebook.html)\n",
      "* [IPython Notebook Viewer](http://nbviewer.ipython.org/)\n",
      "* [Interesting IPython Notebook](https://github.com/ipython/ipython/wiki/A-gallery-of-interesting-IPython-Notebooks)\n"
     ]
    },
    {
     "cell_type": "markdown",
     "metadata": {},
     "source": [
      "**Videos:**\n",
      "* [IPython in-depth: high-productivity interactive and parallel python](http://www.pyvideo.org/video/2577/ipython-in-depth-high-productivity-interactive-a-1) by Fernando Perez at PyCon US 2014."
     ]
    },
    {
     "cell_type": "markdown",
     "metadata": {},
     "source": [
      "**Books:**  \n",
      "* [Learning IPython for Interactive Computing and Data Visualization](http://ipython.rossant.net/) by Cyrille Rossant\n",
      "<img src=\"figs/ipython_book.jpg\">"
     ]
    }
   ],
   "metadata": {}
  }
 ]
}