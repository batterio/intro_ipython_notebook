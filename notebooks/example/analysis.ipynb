{
 "cells": [
  {
   "cell_type": "markdown",
   "metadata": {},
   "source": [
    "# Example of reproducible analysis pipeline"
   ]
  },
  {
   "cell_type": "markdown",
   "metadata": {},
   "source": [
    "We are going to reproduce a couple of figures (2A and 8A) of the following paper:"
   ]
  },
  {
   "cell_type": "code",
   "execution_count": 1,
   "metadata": {
    "collapsed": false
   },
   "outputs": [
    {
     "data": {
      "text/html": [
       "\n",
       "        <iframe\n",
       "            width=\"800\"\n",
       "            height=\"400\"\n",
       "            src=\"http://www.ncbi.nlm.nih.gov/pubmed/22219510\"\n",
       "            frameborder=\"0\"\n",
       "            allowfullscreen\n",
       "        ></iframe>\n",
       "        "
      ],
      "text/plain": [
       "<IPython.lib.display.IFrame at 0x107fa8710>"
      ]
     },
     "execution_count": 1,
     "metadata": {},
     "output_type": "execute_result"
    }
   ],
   "source": [
    "from IPython.display import IFrame\n",
    "url = \"http://www.ncbi.nlm.nih.gov/pubmed/22219510\"\n",
    "IFrame(url, 800, 400)"
   ]
  },
  {
   "cell_type": "markdown",
   "metadata": {},
   "source": [
    "I select this paper because:  \n",
    "* The article is open access  \n",
    "* The reference organism is yeast (12Mb)  \n",
    "* The data are freely available  \n",
    "* I know it very well...  "
   ]
  },
  {
   "cell_type": "markdown",
   "metadata": {},
   "source": [
    "## Required software:"
   ]
  },
  {
   "cell_type": "markdown",
   "metadata": {},
   "source": [
    "* [SRA](http://www.ncbi.nlm.nih.gov/Traces/sra/?view=software): The Sequence Read Archive (SRA) stores raw sequencing data from the next generation of sequencing platforms including Roche 454 GS System®, Illumina Genome Analyzer®, Applied Biosystems SOLiD® System, Helicos Heliscope®, Complete Genomics®, and Pacific Biosciences SMRT®. **In the analysis version: 2.3.5-2 was used.**\n",
    "\n",
    "\n",
    "* [Bowtie](http://bowtie-bio.sourceforge.net/index.shtml): Bowtie is an ultrafast, memory-efficient short read aligner. It aligns short DNA sequences (reads) to the human genome at a rate of over 25 million 35-bp reads per hour. Bowtie indexes the genome with a Burrows-Wheeler index to keep its memory footprint small: typically about 2.2 GB for the human genome (2.9 GB for paired-end). **In the analysis version 1.0.1 was used.**"
   ]
  },
  {
   "cell_type": "markdown",
   "metadata": {},
   "source": [
    "## Required Python libraries:"
   ]
  },
  {
   "cell_type": "markdown",
   "metadata": {},
   "source": [
    "This is extracted from the command `pip freeze`. On the right of each library there is the version I have been using in the analysis:  \n",
    "* ipython==3.1.0  \n",
    "* numpy==1.9.2  \n",
    "* matplotlib==1.4.3  \n",
    "* pandas==0.16.1  \n",
    "* Cython==0.22 \n",
    "* weblogo==3.4  \n",
    "* scipy==0.15.1  "
   ]
  },
  {
   "cell_type": "markdown",
   "metadata": {},
   "source": [
    "## Import modules"
   ]
  },
  {
   "cell_type": "code",
   "execution_count": 2,
   "metadata": {
    "collapsed": false
   },
   "outputs": [
    {
     "name": "stdout",
     "output_type": "stream",
     "text": [
      "Populating the interactive namespace from numpy and matplotlib\n"
     ]
    }
   ],
   "source": [
    "%pylab inline\n",
    "import pandas as pd\n",
    "import tarfile\n",
    "import urllib\n",
    "import os\n",
    "import weblogolib\n",
    "import random\n",
    "import seaborn as sns"
   ]
  },
  {
   "cell_type": "markdown",
   "metadata": {},
   "source": [
    "## Define the paths of the required software"
   ]
  },
  {
   "cell_type": "code",
   "execution_count": 3,
   "metadata": {
    "collapsed": false
   },
   "outputs": [],
   "source": [
    "SRA = \"bin/fastq-dump\"\n",
    "BOWTIE = \"bin\""
   ]
  },
  {
   "cell_type": "markdown",
   "metadata": {},
   "source": [
    "# PIPELINE"
   ]
  },
  {
   "cell_type": "markdown",
   "metadata": {},
   "source": [
    "## Download the data"
   ]
  },
  {
   "cell_type": "code",
   "execution_count": 4,
   "metadata": {
    "collapsed": false
   },
   "outputs": [],
   "source": [
    "# Download one of the set of raw reads of the paper\n",
    "sra_url = \"ftp://ftp-trace.ncbi.nlm.nih.gov/sra/sra-instant/reads/ByStudy/sra/\" + \\\n",
    "            \"SRP%2FSRP009%2FSRP009462/SRR384975/SRR384975.sra\"\n",
    "sra_file = \"reads/SRR384975.sra\"\n",
    "# Download the yeast genomic sequences. The release used in this analysis is: R64-1-1\n",
    "yeast_url = \"http://downloads.yeastgenome.org/sequence/S288C_reference/\" + \\\n",
    "            \"genome_releases/S288C_reference_genome_Current_Release.tgz\"\n",
    "yeast_file = \"data/yeast_genome.tgz\"\n",
    "genome_file = \"data/yeast_genome.fa\"\n",
    "# Download the yeast genomic annotations\n",
    "features_url = \"http://downloads.yeastgenome.org/curation/chromosomal_feature/SGD_features.tab\"\n",
    "features_file = \"data/yeast_features.tsv\""
   ]
  },
  {
   "cell_type": "code",
   "execution_count": 5,
   "metadata": {
    "collapsed": false
   },
   "outputs": [],
   "source": [
    "# Create the directories \"reads\" and \"data\"\n",
    "folders = [\"data\", \"reads\", \"index\", \"sequences\", \"figures\"]\n",
    "_ = [os.mkdir(folder) for folder in folders if not os.path.isdir(folder)]"
   ]
  },
  {
   "cell_type": "code",
   "execution_count": 6,
   "metadata": {
    "collapsed": false
   },
   "outputs": [
    {
     "name": "stdout",
     "output_type": "stream",
     "text": [
      "CPU times: user 246 µs, sys: 461 µs, total: 707 µs\n",
      "Wall time: 1.48 ms\n"
     ]
    }
   ],
   "source": [
    "%%time\n",
    "\n",
    "# Download the files and save it into the local directory\n",
    "for (get_url, get_file) in zip([sra_url, yeast_url, features_url], \n",
    "                               [sra_file, yeast_file, features_file]):\n",
    "    if not os.path.isfile(get_file):\n",
    "        urllib.request.urlretrieve(get_url, get_file)"
   ]
  },
  {
   "cell_type": "code",
   "execution_count": 7,
   "metadata": {
    "collapsed": false
   },
   "outputs": [
    {
     "name": "stdout",
     "output_type": "stream",
     "text": [
      "analysis.ipynb           \u001b[1m\u001b[34mbin\u001b[m\u001b[m                      \u001b[1m\u001b[34mfigures\u001b[m\u001b[m                  \u001b[1m\u001b[34mreads\u001b[m\u001b[m\r\n",
      "analysis_slideshow.ipynb \u001b[1m\u001b[34mdata\u001b[m\u001b[m                     \u001b[1m\u001b[34mindex\u001b[m\u001b[m                    \u001b[1m\u001b[34msequences\u001b[m\u001b[m\r\n"
     ]
    }
   ],
   "source": [
    "!ls"
   ]
  },
  {
   "cell_type": "markdown",
   "metadata": {},
   "source": [
    "## Extract the SRA file"
   ]
  },
  {
   "cell_type": "code",
   "execution_count": 8,
   "metadata": {
    "collapsed": false
   },
   "outputs": [
    {
     "name": "stdout",
     "output_type": "stream",
     "text": [
      "Read 7990112 spots for reads/SRR384975.sra\r\n",
      "Written 7990112 spots for reads/SRR384975.sra\r\n",
      "\r\n",
      "real\t1m4.574s\r\n",
      "user\t0m57.743s\r\n",
      "sys\t0m1.949s\r\n"
     ]
    }
   ],
   "source": [
    "!time $SRA $sra_file --outdir reads"
   ]
  },
  {
   "cell_type": "markdown",
   "metadata": {},
   "source": [
    "## Extract the sequence of the yeast genome"
   ]
  },
  {
   "cell_type": "code",
   "execution_count": 9,
   "metadata": {
    "collapsed": false
   },
   "outputs": [
    {
     "data": {
      "text/plain": [
       "['S288C_reference_genome_R64-2-1_20150113',\n",
       " 'S288C_reference_genome_R64-2-1_20150113/rna_coding_R64-2-1_20150113.fasta',\n",
       " 'S288C_reference_genome_R64-2-1_20150113/NotFeature_R64-2-1_20150113.fasta',\n",
       " 'S288C_reference_genome_R64-2-1_20150113/orf_coding_all_R64-2-1_20150113.fasta',\n",
       " 'S288C_reference_genome_R64-2-1_20150113/other_features_genomic_R64-2-1_20150113.fasta',\n",
       " 'S288C_reference_genome_R64-2-1_20150113/S288C_reference_sequence_R64-2-1_20150113.fsa',\n",
       " 'S288C_reference_genome_R64-2-1_20150113/gene_association_R64-2-1_20150113.sgd',\n",
       " 'S288C_reference_genome_R64-2-1_20150113/orf_trans_all_R64-2-1_20150113.fasta',\n",
       " 'S288C_reference_genome_R64-2-1_20150113/saccharomyces_cerevisiae_R64-2-1_20150113.gff']"
      ]
     },
     "execution_count": 9,
     "metadata": {},
     "output_type": "execute_result"
    }
   ],
   "source": [
    "tar = tarfile.open(yeast_file)\n",
    "tar.getnames()"
   ]
  },
  {
   "cell_type": "markdown",
   "metadata": {},
   "source": [
    "The right file to extract is **S288C_reference_sequence_R64-2-1_20150113.fsa**"
   ]
  },
  {
   "cell_type": "code",
   "execution_count": 10,
   "metadata": {
    "collapsed": false
   },
   "outputs": [],
   "source": [
    "# Extract the file\n",
    "tar.extract('S288C_reference_genome_R64-2-1_20150113/S288C_reference_sequence_R64-2-1_20150113.fsa',\n",
    "            'data')"
   ]
  },
  {
   "cell_type": "code",
   "execution_count": 11,
   "metadata": {
    "collapsed": false
   },
   "outputs": [
    {
     "name": "stdout",
     "output_type": "stream",
     "text": [
      "\u001b[1m\u001b[34mS288C_reference_genome_R64-2-1_20150113\u001b[m\u001b[m yeast_genome.fa\r\n",
      "yeast_features.tsv                      yeast_genome.tgz\r\n"
     ]
    }
   ],
   "source": [
    "!ls data/"
   ]
  },
  {
   "cell_type": "code",
   "execution_count": 12,
   "metadata": {
    "collapsed": false
   },
   "outputs": [],
   "source": [
    "# Rename the reference_sequence file\n",
    "!mv data/S288C_reference_genome_R64-2-1_20150113/S288C_reference_sequence_R64-2-1_20150113.fsa $genome_file\n",
    "!rm -r data/S288C_reference_genome_R64-2-1_20150113/\n",
    "#!rm $yeast_file"
   ]
  },
  {
   "cell_type": "code",
   "execution_count": 13,
   "metadata": {
    "collapsed": false
   },
   "outputs": [
    {
     "name": "stdout",
     "output_type": "stream",
     "text": [
      "yeast_features.tsv yeast_genome.fa    yeast_genome.tgz\r\n"
     ]
    }
   ],
   "source": [
    "!ls data/"
   ]
  },
  {
   "cell_type": "markdown",
   "metadata": {},
   "source": [
    "## Build a bowtie index"
   ]
  },
  {
   "cell_type": "code",
   "execution_count": 14,
   "metadata": {
    "collapsed": false
   },
   "outputs": [],
   "source": [
    "index_name = \"index/yeast_genome\"\n",
    "!$BOWTIE/bowtie-build -q $genome_file $index_name"
   ]
  },
  {
   "cell_type": "markdown",
   "metadata": {},
   "source": [
    "## Trim and align the reads to the yeast genome"
   ]
  },
  {
   "cell_type": "markdown",
   "metadata": {},
   "source": [
    "The reads should start with the `Ty1 LTR` (Long Terminal Repeat), so I check for its presence. I also get rid of reads with _undefined (N)_ nucleotides. In the alignment step, in order to align only the genomic sequence downstream the insertion site, I trim the first 10bp."
   ]
  },
  {
   "cell_type": "code",
   "execution_count": 15,
   "metadata": {
    "collapsed": false
   },
   "outputs": [
    {
     "name": "stdout",
     "output_type": "stream",
     "text": [
      "CPU times: user 1min 7s, sys: 4.04 s, total: 1min 11s\n",
      "Wall time: 1min 13s\n"
     ]
    }
   ],
   "source": [
    "%%time\n",
    "\n",
    "# Reads should start with the Ty1 LTR (\"TATT\"). \n",
    "# I also discard those reads that have ambiguous nucleotides.\n",
    "fastq_file = os.path.splitext(sra_file)[0] + \".fastq\"\n",
    "trimmed_file = os.path.splitext(sra_file)[0] + \".trimmed\"\n",
    "\n",
    "LTR = \"TATT\"\n",
    "MAX_MISMATCHES = 0\n",
    "\n",
    "\n",
    "class ReadFastq:\n",
    "    def load(self, line):\n",
    "        self.lines = [line]\n",
    "        self.output = \"\"\n",
    "    \n",
    "    def add_line(self, line):\n",
    "        self.lines.append(line)        \n",
    "        \n",
    "    def get_output(self):\n",
    "        if self.lines[1].startswith(LTR) and self.lines[1].count(\"N\") <= MAX_MISMATCHES:\n",
    "            self.output = \"\".join(self.lines)\n",
    "            return self.output\n",
    "        else:\n",
    "            return False\n",
    "  \n",
    "\n",
    "with open(fastq_file, 'r') as fi, open(trimmed_file, 'w') as fo:\n",
    "    parser = ReadFastq()\n",
    "    for n, line in enumerate(fi):\n",
    "        if n % 4 == 0:\n",
    "            if n != 0 and parser.get_output():\n",
    "                fo.write(parser.get_output())\n",
    "            parser.load(line)\n",
    "        else:\n",
    "            parser.add_line(line)"
   ]
  },
  {
   "cell_type": "code",
   "execution_count": 16,
   "metadata": {
    "collapsed": false
   },
   "outputs": [
    {
     "name": "stdout",
     "output_type": "stream",
     "text": [
      "Time loading forward index: 00:00:00\n",
      "Time for 0-mismatch search: 00:00:28\n",
      "# reads processed: 7504175\n",
      "# reads with at least one reported alignment: 1187781 (15.83%)\n",
      "# reads that failed to align: 5885730 (78.43%)\n",
      "# reads with alignments suppressed due to -m: 430664 (5.74%)\n",
      "Reported 1187781 alignments to 1 output stream(s)\n",
      "Time searching: 00:00:28\n",
      "Overall time: 00:00:28\n"
     ]
    }
   ],
   "source": [
    "# I align the reads to the yeast genome with Bowtie\n",
    "# I trim the first 10bp of the reads and then I require \n",
    "# unique (-m 1) and perfect (-v 0) alignments.\n",
    "mapped_file = os.path.splitext(sra_file)[0] + \".mapped\"\n",
    "!$BOWTIE/bowtie -t $index_name -m 1 -v 0 -5 10 -p 2 -q $trimmed_file $mapped_file"
   ]
  },
  {
   "cell_type": "markdown",
   "metadata": {},
   "source": [
    "## Get rid of potential clonal reads"
   ]
  },
  {
   "cell_type": "code",
   "execution_count": 17,
   "metadata": {
    "collapsed": false
   },
   "outputs": [
    {
     "name": "stdout",
     "output_type": "stream",
     "text": [
      "1 loops, best of 1: 53.8 s per loop\n"
     ]
    }
   ],
   "source": [
    "unique_file = mapped_file + \".unique\"\n",
    "%timeit -n 1 -r 1 !cut -f2-5 $mapped_file | sort -u > $unique_file"
   ]
  },
  {
   "cell_type": "code",
   "execution_count": 18,
   "metadata": {
    "collapsed": false
   },
   "outputs": [
    {
     "name": "stdout",
     "output_type": "stream",
     "text": [
      "+\tref|NC_001133|\t101400\tGCATTATCTATCATTATAAATTCTTTTATT\r\n",
      "+\tref|NC_001133|\t11050\tTAAAGTCACTGAGATATTAGAGGTTATAAA\r\n",
      "+\tref|NC_001133|\t11333\tAAACTCTATGTAAACACTTATTTTATTGTG\r\n",
      "+\tref|NC_001133|\t115808\tCCTCTCAGATACCACGATGCATAAGGCTCA\r\n",
      "+\tref|NC_001133|\t118483\tATATGTGTATATATACATAGGTTAGTATGT\r\n",
      "+\tref|NC_001133|\t118488\tTGTATATATACATAGGTTAGTATGTATAGC\r\n",
      "+\tref|NC_001133|\t125037\tAGGGTAGAAGCCATGAAAAAACTAGATACC\r\n",
      "+\tref|NC_001133|\t125957\tGATCTTACCTGCTGTGCAGAATTTGAGTAT\r\n",
      "+\tref|NC_001133|\t127779\tGATCTCAGTACTCGCATTCTAGCGTATGTT\r\n",
      "+\tref|NC_001133|\t1289\tATTTCTAGTTACAGTTACACAAAAAACTAT\r\n"
     ]
    }
   ],
   "source": [
    "!head $unique_file"
   ]
  },
  {
   "cell_type": "markdown",
   "metadata": {},
   "source": [
    "## Extract the regions upstream and downstream the Ty1 insertion sites"
   ]
  },
  {
   "cell_type": "code",
   "execution_count": 19,
   "metadata": {
    "collapsed": false
   },
   "outputs": [],
   "source": [
    "# Load the yeast genome in memory\n",
    "dict_genome = {}\n",
    "sequence = \"\"\n",
    "\n",
    "with open(genome_file, 'r') as fi:\n",
    "    for line in fi:\n",
    "        if line.startswith(\">\"):\n",
    "            if sequence != \"\":\n",
    "                dict_genome[head] = sequence.upper()\n",
    "            head = line.split()[0][1:]\n",
    "            sequence = \"\"\n",
    "            continue\n",
    "        sequence += line.strip()\n",
    "    if sequence != \"\":\n",
    "        dict_genome[head] = sequence.upper()"
   ]
  },
  {
   "cell_type": "code",
   "execution_count": 20,
   "metadata": {
    "collapsed": false
   },
   "outputs": [],
   "source": [
    "# Define a class to read the alignment file\n",
    "class ParseAlignments:\n",
    "    def read(self, line):\n",
    "        self.line = line.strip().split(\"\\t\")\n",
    "        self.strand = self.line[0]\n",
    "        self.chromosome = self.line[1]\n",
    "        self.position = int(self.line[2])"
   ]
  },
  {
   "cell_type": "code",
   "execution_count": 21,
   "metadata": {
    "collapsed": false
   },
   "outputs": [],
   "source": [
    "# Define a function to extract the genomic sequences\n",
    "# upstream and downstream a given position.\n",
    "def reverse_complement(sequence):\n",
    "    d = {\"A\":\"T\", \"T\":\"A\", \"C\":\"G\", \"G\":\"C\", \"N\":\"N\"}\n",
    "    sequence = sequence[::-1]\n",
    "    return \"\".join([d[i] for i in sequence])\n",
    "    \n",
    "def get_sequences(input_file, output_file, window=10):\n",
    "    with open(input_file, 'r') as fi, open(output_file, 'w') as fo:\n",
    "        parser = ParseAlignments()\n",
    "        for n, line in enumerate(fi):\n",
    "            parser.read(line)\n",
    "            if parser.strand == \"+\":\n",
    "                position = parser.position + 3\n",
    "            else:\n",
    "                position = parser.position - 3\n",
    "            sequence = dict_genome[parser.chromosome][position - window: position + window]\n",
    "            if parser.strand == \"-\":\n",
    "                sequence = reverse_complement(sequence)\n",
    "            fo.write(\">sequence_{}\\n{}\\n\".format(n, sequence))"
   ]
  },
  {
   "cell_type": "code",
   "execution_count": 22,
   "metadata": {
    "collapsed": false
   },
   "outputs": [],
   "source": [
    "# Extract sequences of 10bp and 1Kb\n",
    "get_sequences(input_file=unique_file, output_file=\"sequences/fasta_10bp.fa\")\n",
    "get_sequences(input_file=unique_file, output_file=\"sequences/fasta_1kb.fa\", window=1000)"
   ]
  },
  {
   "cell_type": "markdown",
   "metadata": {},
   "source": [
    "## Seqlogos"
   ]
  },
  {
   "cell_type": "markdown",
   "metadata": {},
   "source": [
    "First we will check the presence of the insertion site pattern. We will do a seqlogo of the flanking regions of the Ty1 insertion sites."
   ]
  },
  {
   "cell_type": "code",
   "execution_count": 23,
   "metadata": {
    "collapsed": false
   },
   "outputs": [],
   "source": [
    "def do_seqlogo(input_fasta, output_seqlogo):\n",
    "    fin = open(input_fasta)\n",
    "    seqs = weblogolib.read_seq_data(fin) \n",
    "    data = weblogolib.LogoData.from_seqs(seqs)\n",
    "    options = weblogolib.LogoOptions()\n",
    "    options.yaxis_scale = 0.2\n",
    "    options.yaxis_tic_interval  = 0.2\n",
    "    format_logo = weblogolib.LogoFormat(data, options)\n",
    "    fout = weblogolib.eps_formatter(data, format_logo)\n",
    "    with open(output_seqlogo, 'wb') as fo:\n",
    "        fo.write(fout)"
   ]
  },
  {
   "cell_type": "code",
   "execution_count": 24,
   "metadata": {
    "collapsed": false
   },
   "outputs": [],
   "source": [
    "# Create the seqlogos\n",
    "do_seqlogo(\"sequences/fasta_10bp.fa\", \"figures/fasta_10bp.eps\")"
   ]
  },
  {
   "cell_type": "markdown",
   "metadata": {},
   "source": [
    "<img src=\"figures/fasta_10bp.png\">"
   ]
  },
  {
   "cell_type": "markdown",
   "metadata": {},
   "source": [
    "To verify that the above seqlogo is meaninful, we can compare it with a seqlogo obtained with 10000 random sequences."
   ]
  },
  {
   "cell_type": "code",
   "execution_count": 25,
   "metadata": {
    "collapsed": false
   },
   "outputs": [],
   "source": [
    "# Select 10000 random position in the yeast genome\n",
    "N = 10000\n",
    "genome_length = sum([len(i) for i in dict_genome.values()])\n",
    "sample = random.sample(range(1, genome_length + 1), N)\n",
    "\n",
    "# This function map a random number to a chromosome and position in the yeast genome\n",
    "def get_coordinates(number):\n",
    "    for chromosome, sequence in dict_genome.items():\n",
    "        if (number - len(sequence)) > 0:\n",
    "            number -= len(sequence)\n",
    "        # Do not consider position that are too close to the start/end of the chromosome\n",
    "        elif number < 10 or number > len(sequence) - 10:\n",
    "            continue\n",
    "        else:\n",
    "            return (chromosome, number)\n",
    "  \n",
    "# Open the output file\n",
    "random_file = \"reads/random.mapped\"\n",
    "\n",
    "with open(random_file, \"w\") as fo:\n",
    "    for n in sample:\n",
    "        chromosome, position = get_coordinates(n) \n",
    "        fo.write(\"+\\t{}\\t{}\\n\".format(chromosome, position))"
   ]
  },
  {
   "cell_type": "code",
   "execution_count": 26,
   "metadata": {
    "collapsed": false
   },
   "outputs": [],
   "source": [
    "# Extract sequences of 10bp and 1Kb\n",
    "get_sequences(input_file=random_file, output_file=\"sequences/random_10bp.fa\")\n",
    "\n",
    "# Create the seqlogos\n",
    "do_seqlogo(\"sequences/random_10bp.fa\", \"figures/random_10bp.eps\")"
   ]
  },
  {
   "cell_type": "markdown",
   "metadata": {},
   "source": [
    "<img src=\"figures/random_10bp.png\">"
   ]
  },
  {
   "cell_type": "markdown",
   "metadata": {},
   "source": [
    "## Ty1 insertions around tRNAs"
   ]
  },
  {
   "cell_type": "markdown",
   "metadata": {},
   "source": [
    "Second, we will verify that the Ty1 retrotransposons have a strong preference for inserting upstream tRNA genes.  \n",
    "First of all lets look at the structure of the features file."
   ]
  },
  {
   "cell_type": "code",
   "execution_count": 27,
   "metadata": {
    "collapsed": false
   },
   "outputs": [],
   "source": [
    "# Create a dataframe with the yeast features\n",
    "df = pd.read_csv(features_file, sep=\"\\t\", header=None)"
   ]
  },
  {
   "cell_type": "code",
   "execution_count": 28,
   "metadata": {
    "collapsed": false
   },
   "outputs": [
    {
     "data": {
      "text/html": [
       "<div style=\"max-height:1000px;max-width:1500px;overflow:auto;\">\n",
       "<table border=\"1\" class=\"dataframe\">\n",
       "  <thead>\n",
       "    <tr style=\"text-align: right;\">\n",
       "      <th></th>\n",
       "      <th>0</th>\n",
       "      <th>1</th>\n",
       "      <th>2</th>\n",
       "      <th>3</th>\n",
       "      <th>4</th>\n",
       "      <th>5</th>\n",
       "      <th>6</th>\n",
       "      <th>7</th>\n",
       "      <th>8</th>\n",
       "      <th>9</th>\n",
       "      <th>10</th>\n",
       "      <th>11</th>\n",
       "      <th>12</th>\n",
       "      <th>13</th>\n",
       "      <th>14</th>\n",
       "      <th>15</th>\n",
       "    </tr>\n",
       "  </thead>\n",
       "  <tbody>\n",
       "    <tr>\n",
       "      <th>0</th>\n",
       "      <td>S000028864</td>\n",
       "      <td>telomeric_repeat</td>\n",
       "      <td>NaN</td>\n",
       "      <td>TEL01L-TR</td>\n",
       "      <td>NaN</td>\n",
       "      <td>NaN</td>\n",
       "      <td>chromosome 1</td>\n",
       "      <td>NaN</td>\n",
       "      <td>1</td>\n",
       "      <td>62</td>\n",
       "      <td>1</td>\n",
       "      <td>C</td>\n",
       "      <td>NaN</td>\n",
       "      <td>2003-09-09</td>\n",
       "      <td>2003-09-09</td>\n",
       "      <td>Terminal telomeric repeats on the left arm of ...</td>\n",
       "    </tr>\n",
       "    <tr>\n",
       "      <th>1</th>\n",
       "      <td>S000002143</td>\n",
       "      <td>ORF</td>\n",
       "      <td>Dubious</td>\n",
       "      <td>YAL069W</td>\n",
       "      <td>NaN</td>\n",
       "      <td>NaN</td>\n",
       "      <td>chromosome 1</td>\n",
       "      <td>NaN</td>\n",
       "      <td>1</td>\n",
       "      <td>335</td>\n",
       "      <td>649</td>\n",
       "      <td>W</td>\n",
       "      <td>NaN</td>\n",
       "      <td>1996-07-31</td>\n",
       "      <td>1996-07-31</td>\n",
       "      <td>Dubious open reading frame; unlikely to encode...</td>\n",
       "    </tr>\n",
       "    <tr>\n",
       "      <th>2</th>\n",
       "      <td>S000031098</td>\n",
       "      <td>CDS</td>\n",
       "      <td>NaN</td>\n",
       "      <td>NaN</td>\n",
       "      <td>NaN</td>\n",
       "      <td>NaN</td>\n",
       "      <td>YAL069W</td>\n",
       "      <td>NaN</td>\n",
       "      <td>1</td>\n",
       "      <td>335</td>\n",
       "      <td>649</td>\n",
       "      <td>W</td>\n",
       "      <td>NaN</td>\n",
       "      <td>1996-07-31</td>\n",
       "      <td>1996-07-31</td>\n",
       "      <td>NaN</td>\n",
       "    </tr>\n",
       "  </tbody>\n",
       "</table>\n",
       "</div>"
      ],
      "text/plain": [
       "           0                 1        2          3    4    5             6   \\\n",
       "0  S000028864  telomeric_repeat      NaN  TEL01L-TR  NaN  NaN  chromosome 1   \n",
       "1  S000002143               ORF  Dubious    YAL069W  NaN  NaN  chromosome 1   \n",
       "2  S000031098               CDS      NaN        NaN  NaN  NaN       YAL069W   \n",
       "\n",
       "    7  8    9    10 11  12          13          14  \\\n",
       "0  NaN  1   62    1  C NaN  2003-09-09  2003-09-09   \n",
       "1  NaN  1  335  649  W NaN  1996-07-31  1996-07-31   \n",
       "2  NaN  1  335  649  W NaN  1996-07-31  1996-07-31   \n",
       "\n",
       "                                                  15  \n",
       "0  Terminal telomeric repeats on the left arm of ...  \n",
       "1  Dubious open reading frame; unlikely to encode...  \n",
       "2                                                NaN  "
      ]
     },
     "execution_count": 28,
     "metadata": {},
     "output_type": "execute_result"
    }
   ],
   "source": [
    "df.head(3)"
   ]
  },
  {
   "cell_type": "markdown",
   "metadata": {},
   "source": [
    "The **feature** column is the second. Lets look at which features are in the file"
   ]
  },
  {
   "cell_type": "code",
   "execution_count": 29,
   "metadata": {
    "collapsed": false
   },
   "outputs": [
    {
     "data": {
      "text/plain": [
       "array(['ARS', 'ARS consensus sequence', 'CDEI', 'CDEII', 'CDEIII', 'CDS',\n",
       "       'ORF', 'W_region', 'X_element_combinatorial_repeats',\n",
       "       'X_element_core_sequence', 'X_region', \"Y'_element\", 'Y_region',\n",
       "       'Z1_region', 'Z2_region', 'binding_site', 'centromere',\n",
       "       'external_transcribed_spacer_region', 'five_prime_UTR_intron',\n",
       "       'gene_cassette', 'insertion', 'internal_transcribed_spacer_region',\n",
       "       'intron', 'long_terminal_repeat', 'mating_locus', 'multigene locus',\n",
       "       'ncRNA', 'non_transcribed_region', 'noncoding_exon',\n",
       "       'not in systematic sequence of S288C', 'not physically mapped',\n",
       "       'plus_1_translational_frameshift', 'pseudogene', 'rRNA',\n",
       "       'repeat_region', 'retrotransposon', 'snRNA', 'snoRNA', 'tRNA',\n",
       "       'telomere', 'telomeric_repeat', 'transposable_element_gene'], dtype=object)"
      ]
     },
     "execution_count": 29,
     "metadata": {},
     "output_type": "execute_result"
    }
   ],
   "source": [
    "np.unique(df[1])"
   ]
  },
  {
   "cell_type": "markdown",
   "metadata": {},
   "source": [
    "We will extract the the rows that contain the **tRNA** feature"
   ]
  },
  {
   "cell_type": "code",
   "execution_count": 30,
   "metadata": {
    "collapsed": false
   },
   "outputs": [],
   "source": [
    "df_trna = df[df[1] == \"tRNA\"].copy()\n",
    "trna = pd.DataFrame({\"Chromosome\": df_trna[8], \n",
    "                     \"Start\": df_trna[9], \n",
    "                     \"End\": df_trna[10], \n",
    "                     \"Strand\": df_trna[11]})"
   ]
  },
  {
   "cell_type": "markdown",
   "metadata": {},
   "source": [
    "The chromosomes in the features file are named from 1 to 17 but the mapped file have different names.   \n",
    "Here we create a dictionary that convert one format into the other."
   ]
  },
  {
   "cell_type": "code",
   "execution_count": 31,
   "metadata": {
    "collapsed": false
   },
   "outputs": [],
   "source": [
    "dict_chromosomes = {\"NC_001133\": \"1\", \"NC_001134\": \"2\", \"NC_001135\": \"3\", \n",
    "                    \"NC_001136\": \"4\", \"NC_001137\": \"5\", \"NC_001138\": \"6\", \n",
    "                    \"NC_001139\": \"7\", \"NC_001140\": \"8\", \"NC_001141\": \"9\", \n",
    "                    \"NC_001142\": \"10\", \"NC_001143\": \"11\", \"NC_001144\": \"12\", \n",
    "                    \"NC_001145\": \"13\", \"NC_001146\": \"14\", \"NC_001147\": \"15\", \n",
    "                    \"NC_001148\": \"16\", \"NC_001224\": \"17\"}"
   ]
  },
  {
   "cell_type": "markdown",
   "metadata": {},
   "source": [
    "Lets look at the first lines of the dataframe:"
   ]
  },
  {
   "cell_type": "code",
   "execution_count": 32,
   "metadata": {
    "collapsed": false
   },
   "outputs": [
    {
     "data": {
      "text/html": [
       "<div style=\"max-height:1000px;max-width:1500px;overflow:auto;\">\n",
       "<table border=\"1\" class=\"dataframe\">\n",
       "  <thead>\n",
       "    <tr style=\"text-align: right;\">\n",
       "      <th></th>\n",
       "      <th>Chromosome</th>\n",
       "      <th>End</th>\n",
       "      <th>Start</th>\n",
       "      <th>Strand</th>\n",
       "    </tr>\n",
       "  </thead>\n",
       "  <tbody>\n",
       "    <tr>\n",
       "      <th>176</th>\n",
       "      <td>1</td>\n",
       "      <td>139254</td>\n",
       "      <td>139152</td>\n",
       "      <td>W</td>\n",
       "    </tr>\n",
       "    <tr>\n",
       "      <th>222</th>\n",
       "      <td>1</td>\n",
       "      <td>166339</td>\n",
       "      <td>166267</td>\n",
       "      <td>W</td>\n",
       "    </tr>\n",
       "    <tr>\n",
       "      <th>239</th>\n",
       "      <td>1</td>\n",
       "      <td>181254</td>\n",
       "      <td>181141</td>\n",
       "      <td>W</td>\n",
       "    </tr>\n",
       "    <tr>\n",
       "      <th>243</th>\n",
       "      <td>1</td>\n",
       "      <td>182522</td>\n",
       "      <td>182603</td>\n",
       "      <td>C</td>\n",
       "    </tr>\n",
       "    <tr>\n",
       "      <th>376</th>\n",
       "      <td>10</td>\n",
       "      <td>59100</td>\n",
       "      <td>59172</td>\n",
       "      <td>C</td>\n",
       "    </tr>\n",
       "  </tbody>\n",
       "</table>\n",
       "</div>"
      ],
      "text/plain": [
       "    Chromosome     End   Start Strand\n",
       "176          1  139254  139152      W\n",
       "222          1  166339  166267      W\n",
       "239          1  181254  181141      W\n",
       "243          1  182522  182603      C\n",
       "376         10   59100   59172      C"
      ]
     },
     "execution_count": 32,
     "metadata": {},
     "output_type": "execute_result"
    }
   ],
   "source": [
    "trna.head()"
   ]
  },
  {
   "cell_type": "markdown",
   "metadata": {},
   "source": [
    "The strand column uses **W (Whatson)** and **C (Crick)** to indicate the positive and the negative strands.  \n",
    "Lets use **+** and **-** instead."
   ]
  },
  {
   "cell_type": "code",
   "execution_count": 33,
   "metadata": {
    "collapsed": false
   },
   "outputs": [],
   "source": [
    "trna['Strand'] = trna['Strand'].apply(lambda x: \"+\" if x == \"W\" else \"-\")"
   ]
  },
  {
   "cell_type": "code",
   "execution_count": 34,
   "metadata": {
    "collapsed": false
   },
   "outputs": [
    {
     "data": {
      "text/html": [
       "<div style=\"max-height:1000px;max-width:1500px;overflow:auto;\">\n",
       "<table border=\"1\" class=\"dataframe\">\n",
       "  <thead>\n",
       "    <tr style=\"text-align: right;\">\n",
       "      <th></th>\n",
       "      <th>Chromosome</th>\n",
       "      <th>End</th>\n",
       "      <th>Start</th>\n",
       "      <th>Strand</th>\n",
       "    </tr>\n",
       "  </thead>\n",
       "  <tbody>\n",
       "    <tr>\n",
       "      <th>176</th>\n",
       "      <td>1</td>\n",
       "      <td>139254</td>\n",
       "      <td>139152</td>\n",
       "      <td>+</td>\n",
       "    </tr>\n",
       "    <tr>\n",
       "      <th>222</th>\n",
       "      <td>1</td>\n",
       "      <td>166339</td>\n",
       "      <td>166267</td>\n",
       "      <td>+</td>\n",
       "    </tr>\n",
       "    <tr>\n",
       "      <th>239</th>\n",
       "      <td>1</td>\n",
       "      <td>181254</td>\n",
       "      <td>181141</td>\n",
       "      <td>+</td>\n",
       "    </tr>\n",
       "    <tr>\n",
       "      <th>243</th>\n",
       "      <td>1</td>\n",
       "      <td>182522</td>\n",
       "      <td>182603</td>\n",
       "      <td>-</td>\n",
       "    </tr>\n",
       "    <tr>\n",
       "      <th>376</th>\n",
       "      <td>10</td>\n",
       "      <td>59100</td>\n",
       "      <td>59172</td>\n",
       "      <td>-</td>\n",
       "    </tr>\n",
       "  </tbody>\n",
       "</table>\n",
       "</div>"
      ],
      "text/plain": [
       "    Chromosome     End   Start Strand\n",
       "176          1  139254  139152      +\n",
       "222          1  166339  166267      +\n",
       "239          1  181254  181141      +\n",
       "243          1  182522  182603      -\n",
       "376         10   59100   59172      -"
      ]
     },
     "execution_count": 34,
     "metadata": {},
     "output_type": "execute_result"
    }
   ],
   "source": [
    "# Look at the first lines of the dataframe\n",
    "trna.head()"
   ]
  },
  {
   "cell_type": "markdown",
   "metadata": {},
   "source": [
    "Now we create a dataframe with the **Ty1** insertion positions."
   ]
  },
  {
   "cell_type": "code",
   "execution_count": 35,
   "metadata": {
    "collapsed": false
   },
   "outputs": [],
   "source": [
    "insertions = []\n",
    "with open(unique_file, 'r') as fi:\n",
    "    parser = ParseAlignments()\n",
    "    for line in fi:\n",
    "        parser.read(line)\n",
    "        chromosome = dict_chromosomes[parser.chromosome.split(\"|\")[1]]\n",
    "        insertions.append([chromosome, parser.position, parser.strand])\n",
    "    \n",
    "# We create a dataframe with the Ty1 insertion positions.\n",
    "insertions = pd.DataFrame(insertions, columns=[\"Chromosome\", \"Position\", \"Strand\"])"
   ]
  },
  {
   "cell_type": "code",
   "execution_count": 36,
   "metadata": {
    "collapsed": false
   },
   "outputs": [
    {
     "data": {
      "text/html": [
       "<div style=\"max-height:1000px;max-width:1500px;overflow:auto;\">\n",
       "<table border=\"1\" class=\"dataframe\">\n",
       "  <thead>\n",
       "    <tr style=\"text-align: right;\">\n",
       "      <th></th>\n",
       "      <th>Chromosome</th>\n",
       "      <th>Position</th>\n",
       "      <th>Strand</th>\n",
       "    </tr>\n",
       "  </thead>\n",
       "  <tbody>\n",
       "    <tr>\n",
       "      <th>0</th>\n",
       "      <td>1</td>\n",
       "      <td>101400</td>\n",
       "      <td>+</td>\n",
       "    </tr>\n",
       "    <tr>\n",
       "      <th>1</th>\n",
       "      <td>1</td>\n",
       "      <td>11050</td>\n",
       "      <td>+</td>\n",
       "    </tr>\n",
       "    <tr>\n",
       "      <th>2</th>\n",
       "      <td>1</td>\n",
       "      <td>11333</td>\n",
       "      <td>+</td>\n",
       "    </tr>\n",
       "    <tr>\n",
       "      <th>3</th>\n",
       "      <td>1</td>\n",
       "      <td>115808</td>\n",
       "      <td>+</td>\n",
       "    </tr>\n",
       "    <tr>\n",
       "      <th>4</th>\n",
       "      <td>1</td>\n",
       "      <td>118483</td>\n",
       "      <td>+</td>\n",
       "    </tr>\n",
       "  </tbody>\n",
       "</table>\n",
       "</div>"
      ],
      "text/plain": [
       "  Chromosome  Position Strand\n",
       "0          1    101400      +\n",
       "1          1     11050      +\n",
       "2          1     11333      +\n",
       "3          1    115808      +\n",
       "4          1    118483      +"
      ]
     },
     "execution_count": 36,
     "metadata": {},
     "output_type": "execute_result"
    }
   ],
   "source": [
    "# Look at the first lines of the dataframe\n",
    "insertions.head()"
   ]
  },
  {
   "cell_type": "markdown",
   "metadata": {},
   "source": [
    "We calculate the distances of the insertions 1Kb upstream and downstream tRNA genes."
   ]
  },
  {
   "cell_type": "code",
   "execution_count": 37,
   "metadata": {
    "collapsed": false
   },
   "outputs": [],
   "source": [
    "def calculate_distances(feature, insertions, window=1000):\n",
    "    feature_grouped = feature.groupby([\"Chromosome\"])\n",
    "    insertions_grouped = insertions.groupby([\"Chromosome\"])\n",
    "    insertions_chromosomes = np.unique(insertions['Chromosome'])\n",
    "\n",
    "    distances_from_feature = []\n",
    "    \n",
    "    for chromosome, feature_group in feature_grouped:\n",
    "        if chromosome not in insertions_chromosomes:\n",
    "            continue\n",
    "        insertions_group = insertions_grouped.get_group(chromosome)\n",
    "        \n",
    "        for n, line in feature_group.iterrows():\n",
    "            start, end, strand = line[1:]\n",
    "            insertions_around = insertions_group[(insertions_group['Position'] >= start - window) &\n",
    "                                                 (insertions_group['Position'] <= start + window)]\n",
    "            if len(insertions_around) == 0:\n",
    "                continue\n",
    "                \n",
    "            # Calculate the distance of the insertions from the feature\n",
    "            distances = insertions_around['Position'].apply(lambda x: x - start)\n",
    "            \n",
    "            # Correct for the strand of the feature\n",
    "            distances = distances.apply(lambda x: x * -1 if strand == \"-\" else x)\n",
    "            distances_from_feature.extend(distances)\n",
    "    return distances_from_feature"
   ]
  },
  {
   "cell_type": "code",
   "execution_count": 38,
   "metadata": {
    "collapsed": false
   },
   "outputs": [],
   "source": [
    "distances = calculate_distances(trna, insertions)"
   ]
  },
  {
   "cell_type": "markdown",
   "metadata": {},
   "source": [
    "Represent with a histogram the distribution of the Ty1 insertions aroung tRNA TSS "
   ]
  },
  {
   "cell_type": "code",
   "execution_count": 39,
   "metadata": {
    "collapsed": false
   },
   "outputs": [],
   "source": [
    "sns.set_context('poster')\n",
    "def plot_distances(distances):\n",
    "    fig = sns.distplot(distances)\n",
    "    fig.set_xlim((-1000, 1000))\n",
    "    fig.set_xlabel(\"Distance from tRNA TSS\")\n",
    "    fig.plot([0, 0], [0, fig.axis()[3]], 'k--', lw=2, alpha=0.5)"
   ]
  },
  {
   "cell_type": "code",
   "execution_count": 40,
   "metadata": {
    "collapsed": false
   },
   "outputs": [
    {
     "data": {
      "image/png": "[encoded data removed]",
      "text/plain": [
       "<matplotlib.figure.Figure at 0x10d788898>"
      ]
     },
     "metadata": {},
     "output_type": "display_data"
    }
   ],
   "source": [
    "plot_distances(distances)"
   ]
  },
  {
   "cell_type": "markdown",
   "metadata": {},
   "source": [
    "We got a peak of insertions just upstream the tRNA TSS, as expected. This is the position where \n",
    "the nucleosome is located.  \n",
    "Also notice that there are other two smaller peaks that overlap with the positions of other nucleosomes."
   ]
  },
  {
   "cell_type": "markdown",
   "metadata": {},
   "source": [
    "Now we can check if this happens with every TSS. So first we extract the rows of the features file\n",
    "that contain the **ORF** feature and are **not marked as Dubious**."
   ]
  },
  {
   "cell_type": "code",
   "execution_count": 41,
   "metadata": {
    "collapsed": false
   },
   "outputs": [],
   "source": [
    "df_orf = df[(df[1] == \"ORF\") & (df[2] != \"Dubious\")]\n",
    "orf = pd.DataFrame({\"Chromosome\": df_orf[8], \n",
    "                    \"Start\": df_orf[9], \n",
    "                    \"End\": df_orf[10], \n",
    "                    \"Strand\": df_orf[11]})\n",
    "orf['Strand'] = orf['Strand'].apply(lambda x: \"+\" if x == \"W\" else \"-\")"
   ]
  },
  {
   "cell_type": "code",
   "execution_count": 42,
   "metadata": {
    "collapsed": false
   },
   "outputs": [
    {
     "data": {
      "text/html": [
       "<div style=\"max-height:1000px;max-width:1500px;overflow:auto;\">\n",
       "<table border=\"1\" class=\"dataframe\">\n",
       "  <thead>\n",
       "    <tr style=\"text-align: right;\">\n",
       "      <th></th>\n",
       "      <th>Chromosome</th>\n",
       "      <th>End</th>\n",
       "      <th>Start</th>\n",
       "      <th>Strand</th>\n",
       "    </tr>\n",
       "  </thead>\n",
       "  <tbody>\n",
       "    <tr>\n",
       "      <th>11</th>\n",
       "      <td>1</td>\n",
       "      <td>1807</td>\n",
       "      <td>2169</td>\n",
       "      <td>-</td>\n",
       "    </tr>\n",
       "    <tr>\n",
       "      <th>13</th>\n",
       "      <td>1</td>\n",
       "      <td>2707</td>\n",
       "      <td>2480</td>\n",
       "      <td>+</td>\n",
       "    </tr>\n",
       "    <tr>\n",
       "      <th>16</th>\n",
       "      <td>1</td>\n",
       "      <td>7235</td>\n",
       "      <td>9016</td>\n",
       "      <td>-</td>\n",
       "    </tr>\n",
       "    <tr>\n",
       "      <th>20</th>\n",
       "      <td>1</td>\n",
       "      <td>11565</td>\n",
       "      <td>11951</td>\n",
       "      <td>-</td>\n",
       "    </tr>\n",
       "    <tr>\n",
       "      <th>22</th>\n",
       "      <td>1</td>\n",
       "      <td>12426</td>\n",
       "      <td>12046</td>\n",
       "      <td>+</td>\n",
       "    </tr>\n",
       "  </tbody>\n",
       "</table>\n",
       "</div>"
      ],
      "text/plain": [
       "   Chromosome    End  Start Strand\n",
       "11          1   1807   2169      -\n",
       "13          1   2707   2480      +\n",
       "16          1   7235   9016      -\n",
       "20          1  11565  11951      -\n",
       "22          1  12426  12046      +"
      ]
     },
     "execution_count": 42,
     "metadata": {},
     "output_type": "execute_result"
    }
   ],
   "source": [
    "# Look at the first lines of the dataframe\n",
    "orf.head()"
   ]
  },
  {
   "cell_type": "markdown",
   "metadata": {},
   "source": [
    "Calculate the distances of the insertions from the ORF TSS"
   ]
  },
  {
   "cell_type": "code",
   "execution_count": 43,
   "metadata": {
    "collapsed": false
   },
   "outputs": [],
   "source": [
    "distances = calculate_distances(orf, insertions)"
   ]
  },
  {
   "cell_type": "markdown",
   "metadata": {},
   "source": [
    "Represent with a histogram the distribution of the Ty1 insertions aroung ORF TSS.  "
   ]
  },
  {
   "cell_type": "code",
   "execution_count": 44,
   "metadata": {
    "collapsed": false
   },
   "outputs": [
    {
     "data": {
      "image/png": "[encoded data removed]",
      "text/plain": [
       "<matplotlib.figure.Figure at 0x10dd42fd0>"
      ]
     },
     "metadata": {},
     "output_type": "display_data"
    }
   ],
   "source": [
    "plot_distances(distances)"
   ]
  }
 ],
 "metadata": {
  "kernelspec": {
   "display_name": "Python 3",
   "language": "python",
   "name": "python3"
  },
  "language_info": {
   "codemirror_mode": {
    "name": "ipython",
    "version": 3
   },
   "file_extension": ".py",
   "mimetype": "text/x-python",
   "name": "python",
   "nbconvert_exporter": "python",
   "pygments_lexer": "ipython3",
   "version": "3.4.3"
  }
 },
 "nbformat": 4,
 "nbformat_minor": 0
}
